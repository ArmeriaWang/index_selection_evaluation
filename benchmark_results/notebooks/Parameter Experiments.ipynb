{
 "cells": [
  {
   "cell_type": "code",
   "execution_count": 2,
   "metadata": {},
   "outputs": [],
   "source": [
    "import pandas as pd\n",
    "import json\n",
    "import pickle\n",
    "import matplotlib\n",
    "import matplotlib.pyplot as plt\n",
    "from IPython.display import display, HTML\n",
    "import os,sys,inspect, pickle\n",
    "import numpy as np\n",
    "\n",
    "pd.set_option('display.max_colwidth', 500)\n",
    "\n",
    "CSV_PATH = '../parameters_tpcds'\n",
    "BENCHMARK = 'tpcds'\n",
    "SCALE_FACTOR = 10\n",
    "# all except 2,17,20 because they dominate costs by orders of magnitude\n",
    "QUERIES = [1,3,4,5,6,7,8,9,10,11,12,13,14,15,16,18,19,21,22]\n",
    "X_AXIS_TITLE = 'Index Storage Consumption (GB)'\n",
    "LABEL_FONT_SIZE = 12\n",
    "TITLE_FONT_SIZE = 13\n",
    "MARKER_SIZE = 7\n",
    "LINE_WIDTH = 1\n",
    "GRAPH_SIZE = (6,4)\n",
    "QUERIES = [1, 2, 3, 5, 7, 8, 12, 13, 14, 15, 16, 17, 18, 19, 20, 21, 22, 23, 24, 25, 26, 27, 28, 29, 30, 31, 33, 34, 36, 37, 38, 39, 40, 42, 43, 44, 45, 46, 47, 48, 49, 50, 51, 52, 53, 54, 55, 56, 57, 58, 59, 60, 61, 62, 63, 64, 65, 66, 67, 68, 69, 70, 71, 72, 73, 74, 75, 76, 77, 78, 79, 80, 81, 82, 83, 84, 85, 86, 87, 88, 89, 90, 91, 92, 93, 94, 96, 97, 98, 99]\n",
    "# 'microsoft_naive_1'\n",
    "# algorithms = sorted(['epic', 'drop_heuristic', 'microsoft', 'dexter', 'ibm', 'cophy'])"
   ]
  },
  {
   "cell_type": "code",
   "execution_count": 3,
   "metadata": {},
   "outputs": [],
   "source": [
    "def get_costs(df):\n",
    "    costs = []\n",
    "    \n",
    "    for _, row in df.iterrows():\n",
    "        row_cost = 0\n",
    "        for column in df.columns:\n",
    "            if column[0] == 'q':\n",
    "                row_cost += float(json.loads(row[column])['Cost'])\n",
    "        costs.append(row_cost)\n",
    "    \n",
    "    return costs"
   ]
  },
  {
   "cell_type": "code",
   "execution_count": 20,
   "metadata": {},
   "outputs": [
    {
     "data": {
      "text/plain": [
       "[0.7925722118276476, 0.7671346157383183, 0.7588076771262993]"
      ]
     },
     "execution_count": 20,
     "metadata": {},
     "output_type": "execute_result"
    }
   ],
   "source": [
    "no_index_df = pd.read_csv(f\"{CSV_PATH}/results_no_index_{BENCHMARK}_{len(QUERIES)}_queries.csv\", sep=';')\n",
    "no_index_cost = get_costs(no_index_df)[0]\n",
    "\n",
    "# csv_path= f\"{CSV_PATH}/results_ibm_{BENCHMARK}_{len(QUERIES)}_queries_try_variations_max_index_columns_1.csv\"\n",
    "# csv_path= f\"{CSV_PATH}/results_epic_{BENCHMARK}_{len(QUERIES)}_queries_max_index_columns.csv\"\n",
    "csv_path= f\"{CSV_PATH}/results_microsoft_{BENCHMARK}_{len(QUERIES)}_queries_max_index_columns_max_indexes_naive_2.csv\"\n",
    "df = pd.read_csv(csv_path, sep=';')\n",
    "c = get_costs(df)\n",
    "list(map(lambda x: x / no_index_cost, c))\n",
    "# df\n",
    "\n",
    "# try variations bringt nur minimal etwas, max 1%, index längen bringen 2-3%, max naive erhöht die zeit stark aber bringt sonst kaum vorteile\n",
    "# vorschlag weder graph noch tabelle, nur umschreiben\n"
   ]
  },
  {
   "cell_type": "code",
   "execution_count": null,
   "metadata": {},
   "outputs": [],
   "source": []
  },
  {
   "cell_type": "code",
   "execution_count": null,
   "metadata": {},
   "outputs": [],
   "source": []
  }
 ],
 "metadata": {
  "kernelspec": {
   "display_name": "Python 3",
   "language": "python",
   "name": "python3"
  },
  "language_info": {
   "codemirror_mode": {
    "name": "ipython",
    "version": 3
   },
   "file_extension": ".py",
   "mimetype": "text/x-python",
   "name": "python",
   "nbconvert_exporter": "python",
   "pygments_lexer": "ipython3",
   "version": "3.7.5"
  }
 },
 "nbformat": 4,
 "nbformat_minor": 4
}
