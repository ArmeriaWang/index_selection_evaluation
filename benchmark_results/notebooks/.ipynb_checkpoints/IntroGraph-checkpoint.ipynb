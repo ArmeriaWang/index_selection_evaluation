{
 "cells": [
  {
   "cell_type": "code",
   "execution_count": 1,
   "metadata": {},
   "outputs": [],
   "source": [
    "import pandas as pd\n",
    "import json\n",
    "import pickle\n",
    "import matplotlib\n",
    "import matplotlib.pyplot as plt\n",
    "from IPython.display import display, HTML\n",
    "import os,sys,inspect, pickle\n",
    "import numpy as np\n",
    "\n",
    "pd.set_option('display.max_colwidth', 500)\n",
    "\n",
    "X_AXIS_TITLE = 'Index Storage Consumption'\n",
    "LABEL_FONT_SIZE = 12\n",
    "TITLE_FONT_SIZE = 13\n",
    "MARKER_SIZE = 6\n",
    "LINE_WIDTH = 2\n",
    "GRAPH_SIZE = (4,2.666)\n"
   ]
  },
  {
   "cell_type": "code",
   "execution_count": 2,
   "metadata": {},
   "outputs": [],
   "source": [
    "class Style():\n",
    "    def __init__(self, label, color, marker, hatch):\n",
    "        self.label = label\n",
    "        self.color = color\n",
    "        self.marker = marker\n",
    "        self.hatch = hatch\n",
    "        self.index_history = None\n",
    "styles = {\n",
    "    'epic': Style('Algorithm 2', '#6599FF', 'd', '/'),\n",
    "    'drop_heuristic': Style('Drop', '#f28e2b', 'P', 'o'),\n",
    "    'microsoft': Style('Algorithm 1', '#ff8400', 'o', '.'),\n",
    "    'dexter': Style('Dexter', '#bab0ac', 'X', 'x'),\n",
    "    'ibm': Style('DB2Advis', '#59a14f', '*', '*'),\n",
    "    'no_index': Style('No Index', '#76b7b2', '-', 'O'),\n",
    "    'cophy': Style('CoPhy', '#b07aa1', 'p', '\\\\')\n",
    "}"
   ]
  },
  {
   "cell_type": "code",
   "execution_count": 11,
   "metadata": {},
   "outputs": [
    {
     "data": {
      "image/png": "[encoded data removed]",
      "text/plain": [
       "<Figure size 288x191.952 with 1 Axes>"
      ]
     },
     "metadata": {},
     "output_type": "display_data"
    }
   ],
   "source": [
    "fig, ax = plt.subplots()\n",
    "\n",
    "style = styles['microsoft']\n",
    "\n",
    "memory_consumption = [1, 2, 3, 5, 6.6, 8, 10]\n",
    "relative_costs = [95, 85, 70, 55, 35, 30, 20]\n",
    "\n",
    "ax.step(memory_consumption, relative_costs, where='post', color=style.color, linewidth=LINE_WIDTH)\n",
    "ax.plot(memory_consumption, relative_costs, f'{style.marker}', color=style.color, label=style.label, markersize=MARKER_SIZE)\n",
    "\n",
    "\n",
    "style = styles['epic']\n",
    "\n",
    "memory_consumption = [2.2, 3.9, 6.4, 10]#, 4.8, 5.5, 6.7, 8]\n",
    "relative_costs = [90, 60, 27, 20]\n",
    "\n",
    "ax.step(memory_consumption, relative_costs, where='post', color=style.color, linewidth=LINE_WIDTH)\n",
    "ax.plot(memory_consumption, relative_costs, f'{style.marker}', color=style.color, label=style.label, markersize=MARKER_SIZE)\n",
    "\n",
    "fig.legend()\n",
    "plt.xlabel(X_AXIS_TITLE, fontsize=LABEL_FONT_SIZE)\n",
    "plt.ylabel('Workload Cost', fontsize=LABEL_FONT_SIZE)\n",
    "\n",
    "plt.tick_params(axis='both',which='both',bottom=False,top=False,labelbottom=False)\n",
    "# plt.tick_params(axis='y',which='both',bottom=False,top=False,labelbottom=False)\n",
    "plt.tick_params(axis='both', which='both', bottom=True,top=False,labelbottom=False, right=False, left=True, labelleft=False)\n",
    "plt.grid()\n",
    "ax.set_axisbelow(True)\n",
    "# ax.minorticks_on()\n",
    "# ax.grid(which='minor', linestyle=':', linewidth='0.5', color='black')\n",
    "fig.set_size_inches(GRAPH_SIZE)\n",
    "fig.tight_layout()\n",
    "ax.set_xlim([0, 8.5])\n",
    "fig.savefig(f\"../intro_graph.pdf\", bbox_inches='tight')"
   ]
  },
  {
   "cell_type": "code",
   "execution_count": null,
   "metadata": {},
   "outputs": [],
   "source": []
  }
 ],
 "metadata": {
  "kernelspec": {
   "display_name": "Python 3",
   "language": "python",
   "name": "python3"
  },
  "language_info": {
   "codemirror_mode": {
    "name": "ipython",
    "version": 3
   },
   "file_extension": ".py",
   "mimetype": "text/x-python",
   "name": "python",
   "nbconvert_exporter": "python",
   "pygments_lexer": "ipython3",
   "version": "3.7.5"
  }
 },
 "nbformat": 4,
 "nbformat_minor": 4
}
