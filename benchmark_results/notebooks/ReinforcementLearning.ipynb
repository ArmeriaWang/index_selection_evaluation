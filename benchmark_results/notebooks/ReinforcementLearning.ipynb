{
 "cells": [
  {
   "cell_type": "code",
   "execution_count": null,
   "metadata": {},
   "outputs": [],
   "source": [
    "import pandas as pd\n",
    "import json\n",
    "import matplotlib\n",
    "import matplotlib.pyplot as plt\n",
    "from IPython.display import display, HTML\n",
    "import os,sys,inspect, pickle\n",
    "import numpy as np\n",
    "\n",
    "from utils import *"
   ]
  },
  {
   "cell_type": "code",
   "execution_count": null,
   "metadata": {},
   "outputs": [],
   "source": [
    "LABEL_FONT_SIZE = 12\n",
    "TITLE_FONT_SIZE = 13\n",
    "MARKER_SIZE = 7\n",
    "LINE_WIDTH = 1\n",
    "# GRAPH_SIZE = (5,3.333)\n",
    "GRAPH_SIZE = (5,2.8)"
   ]
  },
  {
   "cell_type": "code",
   "execution_count": null,
   "metadata": {},
   "outputs": [],
   "source": [
    "df = pd.read_csv('../tpch_reinforcement_learning/combined_reinforcement_learning.csv', sep=';')\n",
    "def get_costs_by_name(df):\n",
    "    costs_by_name = {}\n",
    "    \n",
    "    for _, row in df.iterrows():\n",
    "        row_cost = 0\n",
    "        for column in df.columns:\n",
    "            if column[0] == 'q':\n",
    "                row_cost += float(json.loads(row[column])['Cost'])\n",
    "        costs_by_name[row['algorithm name']] = row_cost\n",
    "    \n",
    "    return costs_by_name"
   ]
  },
  {
   "cell_type": "code",
   "execution_count": null,
   "metadata": {},
   "outputs": [],
   "source": [
    "costs = get_costs_by_name(df)\n",
    "costs_no_index = costs['no_index']\n",
    "# We dont want to draw the costs without index\n",
    "del costs['no_index']\n",
    "\n",
    "rel_costs = list(map(lambda x: x / costs_no_index, costs.values()))"
   ]
  },
  {
   "cell_type": "code",
   "execution_count": null,
   "metadata": {},
   "outputs": [],
   "source": [
    "labels = []\n",
    "rects = []\n",
    "fig, ax = plt.subplots()\n",
    "for idx, key in enumerate(costs.keys()):\n",
    "    style = styles[key]\n",
    "    rects.append(ax.bar(key, rel_costs[idx] * 100, label=style.label, color=style.color)[0])\n",
    "    labels.append(style.label)\n",
    "\n",
    "ax.set_xticklabels(labels, rotation=30)\n",
    "ax.legend(ncol=2)\n",
    "plt.ylabel('Relative workload cost\\n(% to no index)', fontsize=LABEL_FONT_SIZE)\n",
    "plt.xlabel('Algorithm', fontsize=LABEL_FONT_SIZE)\n",
    "fig.tight_layout()\n",
    "fig.set_size_inches(GRAPH_SIZE)\n",
    "ax.set_ylim([0, 100])\n",
    "\n",
    "def autolabel(rects):\n",
    "    for rect in rects:\n",
    "        height = rect.get_height()\n",
    "        ax.text(rect.get_x() + rect.get_width()/2., 0.8*height, f'{height:.2f}%', ha='center', va='bottom')\n",
    "\n",
    "autolabel(rects)\n",
    "plt.show()\n",
    "fig.savefig(\"../tpch_reinforcement_learning/tpch_reinforcement_learning.pdf\", bbox_inches='tight')\n",
    "fig.savefig(\"../tpch_reinforcement_learning/tpch_reinforcement_learning.png\", bbox_inches='tight')"
   ]
  },
  {
   "cell_type": "code",
   "execution_count": null,
   "metadata": {},
   "outputs": [],
   "source": []
  }
 ],
 "metadata": {
  "kernelspec": {
   "display_name": "Python 3",
   "language": "python",
   "name": "python3"
  },
  "language_info": {
   "codemirror_mode": {
    "name": "ipython",
    "version": 3
   },
   "file_extension": ".py",
   "mimetype": "text/x-python",
   "name": "python",
   "nbconvert_exporter": "python",
   "pygments_lexer": "ipython3",
   "version": "3.7.5"
  }
 },
 "nbformat": 4,
 "nbformat_minor": 2
}
